{
 "cells": [
  {
   "cell_type": "code",
   "execution_count": 1,
   "metadata": {
    "scrolled": true
   },
   "outputs": [],
   "source": [
    "import cv2\n",
    "import face_recognition as face_rec\n",
    "import numpy as ny\n",
    "\n",
    "\n",
    "cap = cv2.VideoCapture(0)\n",
    "\n",
    "img = cv2.imread(\"swetha1.jpeg\")\n",
    "rgb_img = cv2.cvtColor(img, cv2.COLOR_BGR2RGB)\n",
    "img_encodings = face_rec.face_encodings(rgb_img)[0]\n",
    "\n",
    "known_encodings = [img_encodings]\n",
    "known_name = [\"Swetha\"]\n",
    "\n",
    "while True:\n",
    "    \n",
    "    ret, frame = cap.read()\n",
    "    \n",
    "    rgb_frame = frame[:,:,::-1]  #cv2.cvtColor(frame, cv2.COLOR_BGR2RGB)\n",
    "    \n",
    "    face_loc = face_rec.face_locations(rgb_frame)\n",
    "    \n",
    "    face_encodings = face_rec.face_encodings(rgb_frame, face_loc)\n",
    "    \n",
    "    for (top,right,bottom,left), face_encodings in zip(face_loc,face_encodings):\n",
    "        match = face_rec.compare_faces(known_encodings,face_encodings)\n",
    "        \n",
    "        name = \"Unknown\"\n",
    "        \n",
    "        face_distance = face_rec.face_distance(known_encodings,face_encodings)\n",
    "        \n",
    "        best_match_index = ny.argmin(face_distance)\n",
    "        if match[best_match_index]:\n",
    "            name = known_name[best_match_index]\n",
    "            cv2.rectangle(frame, (left,top),(right,bottom),(0,0,255),5)\n",
    "            cv2.rectangle(frame,(left,bottom-35),(right,bottom),(0,0,255),cv2.FILLED)\n",
    "            font = cv2.FONT_HERSHEY_SIMPLEX\n",
    "            cv2.putText(frame,name,(left+6, bottom-6),font, 1.0,(255,255,255),1)\n",
    "    cv2.imshow(\"WebCam Face Recognition\",frame)\n",
    "        \n",
    "    k = cv2.waitKey(1) \n",
    "    if k==27:\n",
    "        break\n",
    "            \n",
    "cap.release()\n",
    "cv2.destroyAllWindows()\n",
    "        "
   ]
  }
 ],
 "metadata": {
  "kernelspec": {
   "display_name": "Python 3",
   "language": "python",
   "name": "python3"
  },
  "language_info": {
   "codemirror_mode": {
    "name": "ipython",
    "version": 3
   },
   "file_extension": ".py",
   "mimetype": "text/x-python",
   "name": "python",
   "nbconvert_exporter": "python",
   "pygments_lexer": "ipython3",
   "version": "3.8.5"
  }
 },
 "nbformat": 4,
 "nbformat_minor": 4
}
